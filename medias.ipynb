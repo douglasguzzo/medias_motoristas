{
 "cells": [
  {
   "cell_type": "code",
   "execution_count": 96,
   "metadata": {},
   "outputs": [],
   "source": [
    "import pandas as pd"
   ]
  },
  {
   "cell_type": "code",
   "execution_count": 97,
   "metadata": {},
   "outputs": [],
   "source": [
    "#IMPORTAR TABELA EXCEL\n",
    "\n",
    "df = pd.read_excel(r'C:\\Users\\Douglas Guzzo\\Desktop\\medias\\abastecimentos_07-2024.xlsx')"
   ]
  },
  {
   "cell_type": "code",
   "execution_count": 98,
   "metadata": {},
   "outputs": [],
   "source": [
    "#EXCLUIR COLUNA 0\n",
    "\n",
    "df.drop(columns='Unnamed: 0', inplace=True)"
   ]
  },
  {
   "cell_type": "code",
   "execution_count": 99,
   "metadata": {},
   "outputs": [],
   "source": [
    "#RENOMEAR COLUNAS DE ACORDO COM A LINHA 0\n",
    "\n",
    "novos_nomes = df.iloc[0].tolist()\n",
    "df.columns = novos_nomes"
   ]
  },
  {
   "cell_type": "code",
   "execution_count": 100,
   "metadata": {},
   "outputs": [],
   "source": [
    "#EXCLUIR LINHA 0\n",
    "\n",
    "df.drop(labels=0, inplace=True)"
   ]
  },
  {
   "cell_type": "code",
   "execution_count": 101,
   "metadata": {},
   "outputs": [],
   "source": [
    "#SUBSTITUIR ESPAÇOS EM BRANCO DOS TITULOS DAS COLUNAS\n",
    "\n",
    "df.columns = df.columns.str.replace(' ', '_')"
   ]
  },
  {
   "cell_type": "code",
   "execution_count": 102,
   "metadata": {},
   "outputs": [],
   "source": [
    "#CONVERTER VALORES DAS COLUNAS EM DATA/HORA\n",
    "\n",
    "df['Data_Abastecimento'] = pd.to_datetime(df['Data_Abastecimento'])"
   ]
  },
  {
   "cell_type": "code",
   "execution_count": 103,
   "metadata": {},
   "outputs": [],
   "source": [
    "#CRIAR COLUNAS SEPARADAS PARA DATA/HORA\n",
    "\n",
    "df['Data'] = df['Data_Abastecimento'].dt.date\n",
    "df['Hora'] = df['Data_Abastecimento'].dt.time"
   ]
  },
  {
   "cell_type": "code",
   "execution_count": 104,
   "metadata": {},
   "outputs": [],
   "source": [
    "#EXCLUIR COLUNA DATA_ABASTECIMENTO\n",
    "\n",
    "df.drop(columns='Data_Abastecimento', inplace=True)"
   ]
  },
  {
   "cell_type": "code",
   "execution_count": 105,
   "metadata": {},
   "outputs": [],
   "source": [
    "#REORDENAR AS COLUNAS\n",
    "\n",
    "col9 = df.pop('Data')\n",
    "df.insert(0, 'Data', col9) \n",
    "\n",
    "col10 = df.pop('Hora')\n",
    "df.insert(1, 'Hora', col10)"
   ]
  },
  {
   "cell_type": "code",
   "execution_count": 106,
   "metadata": {},
   "outputs": [
    {
     "data": {
      "text/html": [
       "<div>\n",
       "<style scoped>\n",
       "    .dataframe tbody tr th:only-of-type {\n",
       "        vertical-align: middle;\n",
       "    }\n",
       "\n",
       "    .dataframe tbody tr th {\n",
       "        vertical-align: top;\n",
       "    }\n",
       "\n",
       "    .dataframe thead th {\n",
       "        text-align: right;\n",
       "    }\n",
       "</style>\n",
       "<table border=\"1\" class=\"dataframe\">\n",
       "  <thead>\n",
       "    <tr style=\"text-align: right;\">\n",
       "      <th></th>\n",
       "      <th>Data</th>\n",
       "      <th>Hora</th>\n",
       "      <th>Placa</th>\n",
       "      <th>Motorista</th>\n",
       "      <th>Quantidade</th>\n",
       "      <th>Total_Horas/Km_Rodados</th>\n",
       "      <th>Média</th>\n",
       "      <th>Hodômetro</th>\n",
       "      <th>Tanque_Cheio</th>\n",
       "      <th>Total_Líquido</th>\n",
       "    </tr>\n",
       "  </thead>\n",
       "  <tbody>\n",
       "    <tr>\n",
       "      <th>1</th>\n",
       "      <td>2024-07-01</td>\n",
       "      <td>17:02:08</td>\n",
       "      <td>MSM1A04</td>\n",
       "      <td>EVALDO RIBEIRO BARRETO</td>\n",
       "      <td>452.04</td>\n",
       "      <td>411</td>\n",
       "      <td>2.35875</td>\n",
       "      <td>328133</td>\n",
       "      <td>Sim</td>\n",
       "      <td>2484.97237</td>\n",
       "    </tr>\n",
       "    <tr>\n",
       "      <th>2</th>\n",
       "      <td>2024-07-03</td>\n",
       "      <td>09:47:00</td>\n",
       "      <td>MSM1A04</td>\n",
       "      <td>EVALDO RIBEIRO BARRETO</td>\n",
       "      <td>200</td>\n",
       "      <td>1126</td>\n",
       "      <td>0</td>\n",
       "      <td>329259</td>\n",
       "      <td>Não</td>\n",
       "      <td>1318</td>\n",
       "    </tr>\n",
       "    <tr>\n",
       "      <th>3</th>\n",
       "      <td>2024-07-04</td>\n",
       "      <td>11:33:04</td>\n",
       "      <td>MSM1A04</td>\n",
       "      <td>EVALDO RIBEIRO BARRETO</td>\n",
       "      <td>438</td>\n",
       "      <td>410</td>\n",
       "      <td>2.40752</td>\n",
       "      <td>329669</td>\n",
       "      <td>Sim</td>\n",
       "      <td>2409.01314</td>\n",
       "    </tr>\n",
       "    <tr>\n",
       "      <th>4</th>\n",
       "      <td>2024-07-06</td>\n",
       "      <td>09:34:00</td>\n",
       "      <td>MSM1A04</td>\n",
       "      <td>EVALDO RIBEIRO BARRETO</td>\n",
       "      <td>200.04</td>\n",
       "      <td>1126</td>\n",
       "      <td>0</td>\n",
       "      <td>330795</td>\n",
       "      <td>Não</td>\n",
       "      <td>1318.2636</td>\n",
       "    </tr>\n",
       "    <tr>\n",
       "      <th>5</th>\n",
       "      <td>2024-07-09</td>\n",
       "      <td>10:04:19</td>\n",
       "      <td>MSM1A04</td>\n",
       "      <td>EVALDO RIBEIRO BARRETO</td>\n",
       "      <td>377.41</td>\n",
       "      <td>411</td>\n",
       "      <td>2.6617</td>\n",
       "      <td>331206</td>\n",
       "      <td>Sim</td>\n",
       "      <td>2078.98563</td>\n",
       "    </tr>\n",
       "  </tbody>\n",
       "</table>\n",
       "</div>"
      ],
      "text/plain": [
       "         Data      Hora    Placa               Motorista Quantidade  \\\n",
       "1  2024-07-01  17:02:08  MSM1A04  EVALDO RIBEIRO BARRETO     452.04   \n",
       "2  2024-07-03  09:47:00  MSM1A04  EVALDO RIBEIRO BARRETO        200   \n",
       "3  2024-07-04  11:33:04  MSM1A04  EVALDO RIBEIRO BARRETO        438   \n",
       "4  2024-07-06  09:34:00  MSM1A04  EVALDO RIBEIRO BARRETO     200.04   \n",
       "5  2024-07-09  10:04:19  MSM1A04  EVALDO RIBEIRO BARRETO     377.41   \n",
       "\n",
       "  Total_Horas/Km_Rodados    Média Hodômetro Tanque_Cheio Total_Líquido  \n",
       "1                    411  2.35875    328133          Sim    2484.97237  \n",
       "2                   1126        0    329259          Não          1318  \n",
       "3                    410  2.40752    329669          Sim    2409.01314  \n",
       "4                   1126        0    330795          Não     1318.2636  \n",
       "5                    411   2.6617    331206          Sim    2078.98563  "
      ]
     },
     "execution_count": 106,
     "metadata": {},
     "output_type": "execute_result"
    }
   ],
   "source": [
    "df.head()"
   ]
  },
  {
   "cell_type": "code",
   "execution_count": 107,
   "metadata": {},
   "outputs": [
    {
     "name": "stdout",
     "output_type": "stream",
     "text": [
      "           Data      Hora    Placa                      Motorista Quantidade  \\\n",
      "12   2024-07-23  07:31:57  MSM1A04         EVALDO RIBEIRO BARRETO      13.73   \n",
      "14   2024-07-29  11:05:59  MSM1A04         EVALDO RIBEIRO BARRETO     379.22   \n",
      "55   2024-07-08  16:47:55  MQX7732  WELINTON DOS SANTOS CONCEIÇÃO      328.1   \n",
      "60   2024-07-25  09:42:00  RBD9E89          JOARES ALVES FERREIRA        100   \n",
      "66   2024-07-22  10:35:56  MQX7732  WELINTON DOS SANTOS CONCEIÇÃO     346.25   \n",
      "83   2024-07-05  14:33:20  MQT6B96     JOÃO CARLOS CAMPOS PEREIRA      67.66   \n",
      "128  2024-07-29  13:42:51  PPP3275            LUCIMAR JOSE ZANETI     554.21   \n",
      "\n",
      "    Total_Horas/Km_Rodados     Média Hodômetro Tanque_Cheio Total_Líquido  \n",
      "12                    1275  92.86235    337115          Sim       75.8047  \n",
      "14                    3078   8.11666    340193          Sim    2093.71154  \n",
      "55                    1288   3.92563    579940          Sim    1804.55984  \n",
      "60                    1072     10.72    581789          Sim           659  \n",
      "66                    1289   3.72274    585356          Sim    1911.68088  \n",
      "83                    1581  23.36683    697316          Sim     371.58804  \n",
      "128                   3049   5.50152   1104617          Sim    3062.07121  \n"
     ]
    }
   ],
   "source": [
    "#FILTRO PARA SABER QUAIS LINHAS ESTÃO COM OS VALORES DAS MÉDIAS FORA DO PADRÃO\n",
    "\n",
    "filtro = df.query('Média >= 3.15')\n",
    "print(filtro)"
   ]
  }
 ],
 "metadata": {
  "kernelspec": {
   "display_name": "Python 3",
   "language": "python",
   "name": "python3"
  },
  "language_info": {
   "codemirror_mode": {
    "name": "ipython",
    "version": 3
   },
   "file_extension": ".py",
   "mimetype": "text/x-python",
   "name": "python",
   "nbconvert_exporter": "python",
   "pygments_lexer": "ipython3",
   "version": "3.12.3"
  }
 },
 "nbformat": 4,
 "nbformat_minor": 2
}
