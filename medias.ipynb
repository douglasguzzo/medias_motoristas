{
 "cells": [
  {
   "cell_type": "code",
   "execution_count": 2,
   "metadata": {},
   "outputs": [],
   "source": [
    "import pandas as pd"
   ]
  },
  {
   "cell_type": "code",
   "execution_count": 3,
   "metadata": {},
   "outputs": [],
   "source": [
    "df = pd.read_excel(r'C:\\Users\\Douglas Guzzo\\Desktop\\pagamento_media_motoristas\\pagamento_media_motoristas\\abastecimentos_07-2024.xlsx')"
   ]
  },
  {
   "cell_type": "code",
   "execution_count": 4,
   "metadata": {},
   "outputs": [],
   "source": [
    "df.drop(columns='Unnamed: 0', inplace=True)"
   ]
  },
  {
   "cell_type": "code",
   "execution_count": 5,
   "metadata": {},
   "outputs": [],
   "source": [
    "novos_nomes = df.iloc[0].tolist()\n",
    "df.columns = novos_nomes"
   ]
  },
  {
   "cell_type": "code",
   "execution_count": 7,
   "metadata": {},
   "outputs": [],
   "source": [
    "df.drop(labels=0, inplace=True)"
   ]
  },
  {
   "cell_type": "code",
   "execution_count": 9,
   "metadata": {},
   "outputs": [],
   "source": [
    "df.columns = df.columns.str.replace(' ', '_')"
   ]
  },
  {
   "cell_type": "code",
   "execution_count": 10,
   "metadata": {},
   "outputs": [
    {
     "data": {
      "text/html": [
       "<div>\n",
       "<style scoped>\n",
       "    .dataframe tbody tr th:only-of-type {\n",
       "        vertical-align: middle;\n",
       "    }\n",
       "\n",
       "    .dataframe tbody tr th {\n",
       "        vertical-align: top;\n",
       "    }\n",
       "\n",
       "    .dataframe thead th {\n",
       "        text-align: right;\n",
       "    }\n",
       "</style>\n",
       "<table border=\"1\" class=\"dataframe\">\n",
       "  <thead>\n",
       "    <tr style=\"text-align: right;\">\n",
       "      <th></th>\n",
       "      <th>Data_Abastecimento</th>\n",
       "      <th>Placa</th>\n",
       "      <th>Motorista</th>\n",
       "      <th>Quantidade</th>\n",
       "      <th>Total_Horas/Km_Rodados</th>\n",
       "      <th>Média</th>\n",
       "      <th>Hodômetro</th>\n",
       "      <th>Tanque_Cheio</th>\n",
       "      <th>Total_Líquido</th>\n",
       "    </tr>\n",
       "  </thead>\n",
       "  <tbody>\n",
       "    <tr>\n",
       "      <th>1</th>\n",
       "      <td>2024-07-01 17:02:08</td>\n",
       "      <td>MSM1A04</td>\n",
       "      <td>EVALDO RIBEIRO BARRETO</td>\n",
       "      <td>452.04</td>\n",
       "      <td>411</td>\n",
       "      <td>2.35875</td>\n",
       "      <td>328133</td>\n",
       "      <td>Sim</td>\n",
       "      <td>2484.97237</td>\n",
       "    </tr>\n",
       "    <tr>\n",
       "      <th>2</th>\n",
       "      <td>2024-07-03 09:47:00</td>\n",
       "      <td>MSM1A04</td>\n",
       "      <td>EVALDO RIBEIRO BARRETO</td>\n",
       "      <td>200</td>\n",
       "      <td>1126</td>\n",
       "      <td>0</td>\n",
       "      <td>329259</td>\n",
       "      <td>Não</td>\n",
       "      <td>1318</td>\n",
       "    </tr>\n",
       "    <tr>\n",
       "      <th>3</th>\n",
       "      <td>2024-07-04 11:33:04</td>\n",
       "      <td>MSM1A04</td>\n",
       "      <td>EVALDO RIBEIRO BARRETO</td>\n",
       "      <td>438</td>\n",
       "      <td>410</td>\n",
       "      <td>2.40752</td>\n",
       "      <td>329669</td>\n",
       "      <td>Sim</td>\n",
       "      <td>2409.01314</td>\n",
       "    </tr>\n",
       "    <tr>\n",
       "      <th>4</th>\n",
       "      <td>2024-07-06 09:34:00</td>\n",
       "      <td>MSM1A04</td>\n",
       "      <td>EVALDO RIBEIRO BARRETO</td>\n",
       "      <td>200.04</td>\n",
       "      <td>1126</td>\n",
       "      <td>0</td>\n",
       "      <td>330795</td>\n",
       "      <td>Não</td>\n",
       "      <td>1318.2636</td>\n",
       "    </tr>\n",
       "    <tr>\n",
       "      <th>5</th>\n",
       "      <td>2024-07-09 10:04:19</td>\n",
       "      <td>MSM1A04</td>\n",
       "      <td>EVALDO RIBEIRO BARRETO</td>\n",
       "      <td>377.41</td>\n",
       "      <td>411</td>\n",
       "      <td>2.6617</td>\n",
       "      <td>331206</td>\n",
       "      <td>Sim</td>\n",
       "      <td>2078.98563</td>\n",
       "    </tr>\n",
       "  </tbody>\n",
       "</table>\n",
       "</div>"
      ],
      "text/plain": [
       "    Data_Abastecimento    Placa               Motorista Quantidade  \\\n",
       "1  2024-07-01 17:02:08  MSM1A04  EVALDO RIBEIRO BARRETO     452.04   \n",
       "2  2024-07-03 09:47:00  MSM1A04  EVALDO RIBEIRO BARRETO        200   \n",
       "3  2024-07-04 11:33:04  MSM1A04  EVALDO RIBEIRO BARRETO        438   \n",
       "4  2024-07-06 09:34:00  MSM1A04  EVALDO RIBEIRO BARRETO     200.04   \n",
       "5  2024-07-09 10:04:19  MSM1A04  EVALDO RIBEIRO BARRETO     377.41   \n",
       "\n",
       "  Total_Horas/Km_Rodados    Média Hodômetro Tanque_Cheio Total_Líquido  \n",
       "1                    411  2.35875    328133          Sim    2484.97237  \n",
       "2                   1126        0    329259          Não          1318  \n",
       "3                    410  2.40752    329669          Sim    2409.01314  \n",
       "4                   1126        0    330795          Não     1318.2636  \n",
       "5                    411   2.6617    331206          Sim    2078.98563  "
      ]
     },
     "execution_count": 10,
     "metadata": {},
     "output_type": "execute_result"
    }
   ],
   "source": [
    "df.head()"
   ]
  }
 ],
 "metadata": {
  "kernelspec": {
   "display_name": "Python 3",
   "language": "python",
   "name": "python3"
  },
  "language_info": {
   "codemirror_mode": {
    "name": "ipython",
    "version": 3
   },
   "file_extension": ".py",
   "mimetype": "text/x-python",
   "name": "python",
   "nbconvert_exporter": "python",
   "pygments_lexer": "ipython3",
   "version": "3.12.3"
  }
 },
 "nbformat": 4,
 "nbformat_minor": 2
}
